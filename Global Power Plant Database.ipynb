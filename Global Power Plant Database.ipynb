{
 "cells": [
  {
   "cell_type": "code",
   "execution_count": 76,
   "id": "6062b973",
   "metadata": {},
   "outputs": [],
   "source": [
    "import pandas as pd\n",
    "import numpy as np\n",
    "import matplotlib.pyplot as plt\n",
    "import seaborn as sns\n",
    "from sklearn.ensemble import RandomForestRegressor\n",
    "from sklearn.datasets import make_regression\n",
    "from sklearn.model_selection import train_test_split, GridSearchCV, cross_val_score\n",
    "from sklearn.preprocessing import StandardScaler\n",
    "from sklearn.ensemble import RandomForestClassifier\n",
    "from sklearn.svm import SVC\n",
    "from sklearn.metrics import confusion_matrix\n",
    "from sklearn.metrics import accuracy_score\n",
    "import warnings\n",
    "warnings.filterwarnings(\"ignore\")\n",
    "from sklearn.linear_model import LinearRegression\n",
    "from sklearn.metrics import mean_squared_error, mean_absolute_error\n",
    "from sklearn.svm import SVR\n",
    "from xgboost import XGBRegressor\n",
    "from sklearn.datasets import load_iris\n",
    "from sklearn.linear_model import LogisticRegression\n",
    "from sklearn.tree import DecisionTreeClassifier\n",
    "from sklearn.preprocessing import (FunctionTransformer, StandardScaler) \n",
    "from sklearn.pipeline import Pipeline\n",
    " # streaming pipelines\n",
    "from sklearn.base import BaseEstimator, TransformerMixin \n",
    "# To create a box-cox transformation class\n",
    "from collections import Counter"
   ]
  },
  {
   "cell_type": "code",
   "execution_count": 77,
   "id": "011cf4a1",
   "metadata": {},
   "outputs": [
    {
     "data": {
      "text/html": [
       "<div>\n",
       "<style scoped>\n",
       "    .dataframe tbody tr th:only-of-type {\n",
       "        vertical-align: middle;\n",
       "    }\n",
       "\n",
       "    .dataframe tbody tr th {\n",
       "        vertical-align: top;\n",
       "    }\n",
       "\n",
       "    .dataframe thead th {\n",
       "        text-align: right;\n",
       "    }\n",
       "</style>\n",
       "<table border=\"1\" class=\"dataframe\">\n",
       "  <thead>\n",
       "    <tr style=\"text-align: right;\">\n",
       "      <th></th>\n",
       "      <th>country</th>\n",
       "      <th>country_long</th>\n",
       "      <th>name</th>\n",
       "      <th>gppd_idnr</th>\n",
       "      <th>capacity_mw</th>\n",
       "      <th>latitude</th>\n",
       "      <th>longitude</th>\n",
       "      <th>primary_fuel</th>\n",
       "      <th>other_fuel1</th>\n",
       "      <th>other_fuel2</th>\n",
       "      <th>...</th>\n",
       "      <th>estimated_generation_gwh_2013</th>\n",
       "      <th>estimated_generation_gwh_2014</th>\n",
       "      <th>estimated_generation_gwh_2015</th>\n",
       "      <th>estimated_generation_gwh_2016</th>\n",
       "      <th>estimated_generation_gwh_2017</th>\n",
       "      <th>estimated_generation_note_2013</th>\n",
       "      <th>estimated_generation_note_2014</th>\n",
       "      <th>estimated_generation_note_2015</th>\n",
       "      <th>estimated_generation_note_2016</th>\n",
       "      <th>estimated_generation_note_2017</th>\n",
       "    </tr>\n",
       "  </thead>\n",
       "  <tbody>\n",
       "    <tr>\n",
       "      <th>0</th>\n",
       "      <td>AFG</td>\n",
       "      <td>Afghanistan</td>\n",
       "      <td>Kajaki Hydroelectric Power Plant Afghanistan</td>\n",
       "      <td>GEODB0040538</td>\n",
       "      <td>33.0</td>\n",
       "      <td>32.322</td>\n",
       "      <td>65.1190</td>\n",
       "      <td>Hydro</td>\n",
       "      <td>NaN</td>\n",
       "      <td>NaN</td>\n",
       "      <td>...</td>\n",
       "      <td>123.77</td>\n",
       "      <td>162.90</td>\n",
       "      <td>97.39</td>\n",
       "      <td>137.76</td>\n",
       "      <td>119.50</td>\n",
       "      <td>HYDRO-V1</td>\n",
       "      <td>HYDRO-V1</td>\n",
       "      <td>HYDRO-V1</td>\n",
       "      <td>HYDRO-V1</td>\n",
       "      <td>HYDRO-V1</td>\n",
       "    </tr>\n",
       "    <tr>\n",
       "      <th>1</th>\n",
       "      <td>AFG</td>\n",
       "      <td>Afghanistan</td>\n",
       "      <td>Kandahar DOG</td>\n",
       "      <td>WKS0070144</td>\n",
       "      <td>10.0</td>\n",
       "      <td>31.670</td>\n",
       "      <td>65.7950</td>\n",
       "      <td>Solar</td>\n",
       "      <td>NaN</td>\n",
       "      <td>NaN</td>\n",
       "      <td>...</td>\n",
       "      <td>18.43</td>\n",
       "      <td>17.48</td>\n",
       "      <td>18.25</td>\n",
       "      <td>17.70</td>\n",
       "      <td>18.29</td>\n",
       "      <td>SOLAR-V1-NO-AGE</td>\n",
       "      <td>SOLAR-V1-NO-AGE</td>\n",
       "      <td>SOLAR-V1-NO-AGE</td>\n",
       "      <td>SOLAR-V1-NO-AGE</td>\n",
       "      <td>SOLAR-V1-NO-AGE</td>\n",
       "    </tr>\n",
       "    <tr>\n",
       "      <th>2</th>\n",
       "      <td>AFG</td>\n",
       "      <td>Afghanistan</td>\n",
       "      <td>Kandahar JOL</td>\n",
       "      <td>WKS0071196</td>\n",
       "      <td>10.0</td>\n",
       "      <td>31.623</td>\n",
       "      <td>65.7920</td>\n",
       "      <td>Solar</td>\n",
       "      <td>NaN</td>\n",
       "      <td>NaN</td>\n",
       "      <td>...</td>\n",
       "      <td>18.64</td>\n",
       "      <td>17.58</td>\n",
       "      <td>19.10</td>\n",
       "      <td>17.62</td>\n",
       "      <td>18.72</td>\n",
       "      <td>SOLAR-V1-NO-AGE</td>\n",
       "      <td>SOLAR-V1-NO-AGE</td>\n",
       "      <td>SOLAR-V1-NO-AGE</td>\n",
       "      <td>SOLAR-V1-NO-AGE</td>\n",
       "      <td>SOLAR-V1-NO-AGE</td>\n",
       "    </tr>\n",
       "    <tr>\n",
       "      <th>3</th>\n",
       "      <td>AFG</td>\n",
       "      <td>Afghanistan</td>\n",
       "      <td>Mahipar Hydroelectric Power Plant Afghanistan</td>\n",
       "      <td>GEODB0040541</td>\n",
       "      <td>66.0</td>\n",
       "      <td>34.556</td>\n",
       "      <td>69.4787</td>\n",
       "      <td>Hydro</td>\n",
       "      <td>NaN</td>\n",
       "      <td>NaN</td>\n",
       "      <td>...</td>\n",
       "      <td>225.06</td>\n",
       "      <td>203.55</td>\n",
       "      <td>146.90</td>\n",
       "      <td>230.18</td>\n",
       "      <td>174.91</td>\n",
       "      <td>HYDRO-V1</td>\n",
       "      <td>HYDRO-V1</td>\n",
       "      <td>HYDRO-V1</td>\n",
       "      <td>HYDRO-V1</td>\n",
       "      <td>HYDRO-V1</td>\n",
       "    </tr>\n",
       "    <tr>\n",
       "      <th>4</th>\n",
       "      <td>AFG</td>\n",
       "      <td>Afghanistan</td>\n",
       "      <td>Naghlu Dam Hydroelectric Power Plant Afghanistan</td>\n",
       "      <td>GEODB0040534</td>\n",
       "      <td>100.0</td>\n",
       "      <td>34.641</td>\n",
       "      <td>69.7170</td>\n",
       "      <td>Hydro</td>\n",
       "      <td>NaN</td>\n",
       "      <td>NaN</td>\n",
       "      <td>...</td>\n",
       "      <td>406.16</td>\n",
       "      <td>357.22</td>\n",
       "      <td>270.99</td>\n",
       "      <td>395.38</td>\n",
       "      <td>350.80</td>\n",
       "      <td>HYDRO-V1</td>\n",
       "      <td>HYDRO-V1</td>\n",
       "      <td>HYDRO-V1</td>\n",
       "      <td>HYDRO-V1</td>\n",
       "      <td>HYDRO-V1</td>\n",
       "    </tr>\n",
       "  </tbody>\n",
       "</table>\n",
       "<p>5 rows × 36 columns</p>\n",
       "</div>"
      ],
      "text/plain": [
       "  country country_long                                              name  \\\n",
       "0     AFG  Afghanistan      Kajaki Hydroelectric Power Plant Afghanistan   \n",
       "1     AFG  Afghanistan                                      Kandahar DOG   \n",
       "2     AFG  Afghanistan                                      Kandahar JOL   \n",
       "3     AFG  Afghanistan     Mahipar Hydroelectric Power Plant Afghanistan   \n",
       "4     AFG  Afghanistan  Naghlu Dam Hydroelectric Power Plant Afghanistan   \n",
       "\n",
       "      gppd_idnr  capacity_mw  latitude  longitude primary_fuel other_fuel1  \\\n",
       "0  GEODB0040538         33.0    32.322    65.1190        Hydro         NaN   \n",
       "1    WKS0070144         10.0    31.670    65.7950        Solar         NaN   \n",
       "2    WKS0071196         10.0    31.623    65.7920        Solar         NaN   \n",
       "3  GEODB0040541         66.0    34.556    69.4787        Hydro         NaN   \n",
       "4  GEODB0040534        100.0    34.641    69.7170        Hydro         NaN   \n",
       "\n",
       "  other_fuel2  ... estimated_generation_gwh_2013  \\\n",
       "0         NaN  ...                        123.77   \n",
       "1         NaN  ...                         18.43   \n",
       "2         NaN  ...                         18.64   \n",
       "3         NaN  ...                        225.06   \n",
       "4         NaN  ...                        406.16   \n",
       "\n",
       "   estimated_generation_gwh_2014 estimated_generation_gwh_2015  \\\n",
       "0                         162.90                         97.39   \n",
       "1                          17.48                         18.25   \n",
       "2                          17.58                         19.10   \n",
       "3                         203.55                        146.90   \n",
       "4                         357.22                        270.99   \n",
       "\n",
       "  estimated_generation_gwh_2016 estimated_generation_gwh_2017  \\\n",
       "0                        137.76                        119.50   \n",
       "1                         17.70                         18.29   \n",
       "2                         17.62                         18.72   \n",
       "3                        230.18                        174.91   \n",
       "4                        395.38                        350.80   \n",
       "\n",
       "  estimated_generation_note_2013 estimated_generation_note_2014  \\\n",
       "0                       HYDRO-V1                       HYDRO-V1   \n",
       "1                SOLAR-V1-NO-AGE                SOLAR-V1-NO-AGE   \n",
       "2                SOLAR-V1-NO-AGE                SOLAR-V1-NO-AGE   \n",
       "3                       HYDRO-V1                       HYDRO-V1   \n",
       "4                       HYDRO-V1                       HYDRO-V1   \n",
       "\n",
       "   estimated_generation_note_2015  estimated_generation_note_2016  \\\n",
       "0                        HYDRO-V1                        HYDRO-V1   \n",
       "1                 SOLAR-V1-NO-AGE                 SOLAR-V1-NO-AGE   \n",
       "2                 SOLAR-V1-NO-AGE                 SOLAR-V1-NO-AGE   \n",
       "3                        HYDRO-V1                        HYDRO-V1   \n",
       "4                        HYDRO-V1                        HYDRO-V1   \n",
       "\n",
       "   estimated_generation_note_2017  \n",
       "0                        HYDRO-V1  \n",
       "1                 SOLAR-V1-NO-AGE  \n",
       "2                 SOLAR-V1-NO-AGE  \n",
       "3                        HYDRO-V1  \n",
       "4                        HYDRO-V1  \n",
       "\n",
       "[5 rows x 36 columns]"
      ]
     },
     "execution_count": 77,
     "metadata": {},
     "output_type": "execute_result"
    }
   ],
   "source": [
    "gpp_df = pd.read_csv(r\"C:\\Users\\SONY\\Downloads\\global_power_plant_database.csv\")\n",
    "gpp_df.head()"
   ]
  },
  {
   "cell_type": "code",
   "execution_count": 78,
   "id": "312b4bc6",
   "metadata": {},
   "outputs": [
    {
     "data": {
      "text/plain": [
       "(34936, 36)"
      ]
     },
     "execution_count": 78,
     "metadata": {},
     "output_type": "execute_result"
    }
   ],
   "source": [
    "gpp_df.shape"
   ]
  },
  {
   "cell_type": "code",
   "execution_count": 79,
   "id": "11fa592b",
   "metadata": {},
   "outputs": [
    {
     "name": "stdout",
     "output_type": "stream",
     "text": [
      "<class 'pandas.core.frame.DataFrame'>\n",
      "RangeIndex: 34936 entries, 0 to 34935\n",
      "Data columns (total 36 columns):\n",
      " #   Column                          Non-Null Count  Dtype  \n",
      "---  ------                          --------------  -----  \n",
      " 0   country                         34936 non-null  object \n",
      " 1   country_long                    34936 non-null  object \n",
      " 2   name                            34936 non-null  object \n",
      " 3   gppd_idnr                       34936 non-null  object \n",
      " 4   capacity_mw                     34936 non-null  float64\n",
      " 5   latitude                        34936 non-null  float64\n",
      " 6   longitude                       34936 non-null  float64\n",
      " 7   primary_fuel                    34936 non-null  object \n",
      " 8   other_fuel1                     1944 non-null   object \n",
      " 9   other_fuel2                     276 non-null    object \n",
      " 10  other_fuel3                     92 non-null     object \n",
      " 11  commissioning_year              17447 non-null  float64\n",
      " 12  owner                           20868 non-null  object \n",
      " 13  source                          34921 non-null  object \n",
      " 14  url                             34918 non-null  object \n",
      " 15  geolocation_source              34517 non-null  object \n",
      " 16  wepp_id                         16234 non-null  object \n",
      " 17  year_of_capacity_data           14887 non-null  float64\n",
      " 18  generation_gwh_2013             6417 non-null   float64\n",
      " 19  generation_gwh_2014             7226 non-null   float64\n",
      " 20  generation_gwh_2015             8203 non-null   float64\n",
      " 21  generation_gwh_2016             9144 non-null   float64\n",
      " 22  generation_gwh_2017             9500 non-null   float64\n",
      " 23  generation_gwh_2018             9637 non-null   float64\n",
      " 24  generation_gwh_2019             9659 non-null   float64\n",
      " 25  generation_data_source          11400 non-null  object \n",
      " 26  estimated_generation_gwh_2013   16120 non-null  float64\n",
      " 27  estimated_generation_gwh_2014   16503 non-null  float64\n",
      " 28  estimated_generation_gwh_2015   17050 non-null  float64\n",
      " 29  estimated_generation_gwh_2016   17570 non-null  float64\n",
      " 30  estimated_generation_gwh_2017   33138 non-null  float64\n",
      " 31  estimated_generation_note_2013  34936 non-null  object \n",
      " 32  estimated_generation_note_2014  34936 non-null  object \n",
      " 33  estimated_generation_note_2015  34936 non-null  object \n",
      " 34  estimated_generation_note_2016  34936 non-null  object \n",
      " 35  estimated_generation_note_2017  34936 non-null  object \n",
      "dtypes: float64(17), object(19)\n",
      "memory usage: 9.6+ MB\n"
     ]
    }
   ],
   "source": [
    "gpp_df.info()"
   ]
  },
  {
   "cell_type": "code",
   "execution_count": 80,
   "id": "b7d7efff",
   "metadata": {},
   "outputs": [
    {
     "data": {
      "text/plain": [
       "country                               0\n",
       "country_long                          0\n",
       "name                                  0\n",
       "gppd_idnr                             0\n",
       "capacity_mw                           0\n",
       "latitude                              0\n",
       "longitude                             0\n",
       "primary_fuel                          0\n",
       "other_fuel1                       32992\n",
       "other_fuel2                       34660\n",
       "other_fuel3                       34844\n",
       "commissioning_year                17489\n",
       "owner                             14068\n",
       "source                               15\n",
       "url                                  18\n",
       "geolocation_source                  419\n",
       "wepp_id                           18702\n",
       "year_of_capacity_data             20049\n",
       "generation_gwh_2013               28519\n",
       "generation_gwh_2014               27710\n",
       "generation_gwh_2015               26733\n",
       "generation_gwh_2016               25792\n",
       "generation_gwh_2017               25436\n",
       "generation_gwh_2018               25299\n",
       "generation_gwh_2019               25277\n",
       "generation_data_source            23536\n",
       "estimated_generation_gwh_2013     18816\n",
       "estimated_generation_gwh_2014     18433\n",
       "estimated_generation_gwh_2015     17886\n",
       "estimated_generation_gwh_2016     17366\n",
       "estimated_generation_gwh_2017      1798\n",
       "estimated_generation_note_2013        0\n",
       "estimated_generation_note_2014        0\n",
       "estimated_generation_note_2015        0\n",
       "estimated_generation_note_2016        0\n",
       "estimated_generation_note_2017        0\n",
       "dtype: int64"
      ]
     },
     "execution_count": 80,
     "metadata": {},
     "output_type": "execute_result"
    }
   ],
   "source": [
    "gpp_df.isnull().sum()"
   ]
  },
  {
   "cell_type": "code",
   "execution_count": 81,
   "id": "3804d9a2",
   "metadata": {},
   "outputs": [],
   "source": [
    "gpp_df.drop(['owner','source','url','country','gppd_idnr'], axis=1,inplace = True)\n"
   ]
  },
  {
   "cell_type": "code",
   "execution_count": 82,
   "id": "76350bc7",
   "metadata": {},
   "outputs": [],
   "source": [
    "gpp_df.drop(['wepp_id','year_of_capacity_data','commissioning_year'], axis=1,inplace = True)\n"
   ]
  },
  {
   "cell_type": "code",
   "execution_count": 83,
   "id": "ab048b9b",
   "metadata": {},
   "outputs": [
    {
     "name": "stdout",
     "output_type": "stream",
     "text": [
      "<class 'pandas.core.frame.DataFrame'>\n",
      "RangeIndex: 34936 entries, 0 to 34935\n",
      "Data columns (total 28 columns):\n",
      " #   Column                          Non-Null Count  Dtype  \n",
      "---  ------                          --------------  -----  \n",
      " 0   country_long                    34936 non-null  object \n",
      " 1   name                            34936 non-null  object \n",
      " 2   capacity_mw                     34936 non-null  float64\n",
      " 3   latitude                        34936 non-null  float64\n",
      " 4   longitude                       34936 non-null  float64\n",
      " 5   primary_fuel                    34936 non-null  object \n",
      " 6   other_fuel1                     1944 non-null   object \n",
      " 7   other_fuel2                     276 non-null    object \n",
      " 8   other_fuel3                     92 non-null     object \n",
      " 9   geolocation_source              34517 non-null  object \n",
      " 10  generation_gwh_2013             6417 non-null   float64\n",
      " 11  generation_gwh_2014             7226 non-null   float64\n",
      " 12  generation_gwh_2015             8203 non-null   float64\n",
      " 13  generation_gwh_2016             9144 non-null   float64\n",
      " 14  generation_gwh_2017             9500 non-null   float64\n",
      " 15  generation_gwh_2018             9637 non-null   float64\n",
      " 16  generation_gwh_2019             9659 non-null   float64\n",
      " 17  generation_data_source          11400 non-null  object \n",
      " 18  estimated_generation_gwh_2013   16120 non-null  float64\n",
      " 19  estimated_generation_gwh_2014   16503 non-null  float64\n",
      " 20  estimated_generation_gwh_2015   17050 non-null  float64\n",
      " 21  estimated_generation_gwh_2016   17570 non-null  float64\n",
      " 22  estimated_generation_gwh_2017   33138 non-null  float64\n",
      " 23  estimated_generation_note_2013  34936 non-null  object \n",
      " 24  estimated_generation_note_2014  34936 non-null  object \n",
      " 25  estimated_generation_note_2015  34936 non-null  object \n",
      " 26  estimated_generation_note_2016  34936 non-null  object \n",
      " 27  estimated_generation_note_2017  34936 non-null  object \n",
      "dtypes: float64(15), object(13)\n",
      "memory usage: 7.5+ MB\n"
     ]
    }
   ],
   "source": [
    "gpp_df.info()"
   ]
  },
  {
   "cell_type": "code",
   "execution_count": 84,
   "id": "d1a9ffa7",
   "metadata": {},
   "outputs": [
    {
     "data": {
      "text/plain": [
       "array([nan, 'Oil', 'Solar', 'Gas', 'Other', 'Hydro', 'Coal', 'Petcoke',\n",
       "       'Biomass', 'Waste', 'Cogeneration', 'Storage', 'Wind'],\n",
       "      dtype=object)"
      ]
     },
     "execution_count": 84,
     "metadata": {},
     "output_type": "execute_result"
    }
   ],
   "source": [
    "gpp_df.other_fuel1.unique()"
   ]
  },
  {
   "cell_type": "code",
   "execution_count": 85,
   "id": "8a940cf5",
   "metadata": {},
   "outputs": [],
   "source": [
    "gpp_df['other_fuel1'] = gpp_df['other_fuel1'].map({'Oil':0,'Solar':1,'Gas':2,'Hydro':3,'Coal':4,'Petcoke':5,'Biomass':6,'Waste':7,'Cogeneration':8,'Storage':9,'Wind':10,'Other':11})"
   ]
  },
  {
   "cell_type": "code",
   "execution_count": 86,
   "id": "ef771c6b",
   "metadata": {},
   "outputs": [
    {
     "data": {
      "text/plain": [
       "array([nan, 'Other', 'Oil', 'Biomass', 'Gas', 'Solar', 'Waste', 'Storage',\n",
       "       'Hydro', 'Wind', 'Coal', 'Petcoke'], dtype=object)"
      ]
     },
     "execution_count": 86,
     "metadata": {},
     "output_type": "execute_result"
    }
   ],
   "source": [
    "gpp_df.other_fuel2.unique()"
   ]
  },
  {
   "cell_type": "code",
   "execution_count": 87,
   "id": "f3a9578a",
   "metadata": {},
   "outputs": [],
   "source": [
    "gpp_df['other_fuel2'] = gpp_df['other_fuel2'].map({'Oil':0,'Solar':1,'Gas':2,'Hydro':3,'Coal':4,'Petcoke':5,'Biomass':6,'Waste':7,'Storage':8,'Wind':9,'Other':10})"
   ]
  },
  {
   "cell_type": "code",
   "execution_count": 88,
   "id": "4c402644",
   "metadata": {},
   "outputs": [
    {
     "data": {
      "text/plain": [
       "array([nan, 'Other', 'Gas', 'Solar', 'Biomass', 'Hydro', 'Oil', 'Wind',\n",
       "       'Storage'], dtype=object)"
      ]
     },
     "execution_count": 88,
     "metadata": {},
     "output_type": "execute_result"
    }
   ],
   "source": [
    "gpp_df.other_fuel3.unique()"
   ]
  },
  {
   "cell_type": "code",
   "execution_count": 89,
   "id": "c7d060fa",
   "metadata": {},
   "outputs": [],
   "source": [
    "gpp_df['other_fuel3'] = gpp_df['other_fuel3'].map({'Oil':9,'Solar':1,'Gas':2,'Hydro':3,'Biomass':4,'Waste':5,'Storage':6,'Wind':7,'Other':8})"
   ]
  },
  {
   "cell_type": "code",
   "execution_count": 90,
   "id": "da2f3b84",
   "metadata": {},
   "outputs": [],
   "source": [
    "gpp_df['other_fuel1'].fillna(gpp_df['other_fuel1'].mode()[0], inplace=True)\n"
   ]
  },
  {
   "cell_type": "code",
   "execution_count": 91,
   "id": "f1375623",
   "metadata": {},
   "outputs": [],
   "source": [
    "gpp_df['other_fuel2'].fillna(gpp_df['other_fuel2'].mode()[0], inplace=True)\n"
   ]
  },
  {
   "cell_type": "code",
   "execution_count": 92,
   "id": "517368c3",
   "metadata": {},
   "outputs": [],
   "source": [
    "gpp_df['other_fuel3'].fillna(gpp_df['other_fuel3'].mode(), inplace=True)\n"
   ]
  },
  {
   "cell_type": "code",
   "execution_count": 93,
   "id": "5eaa7ebb",
   "metadata": {},
   "outputs": [
    {
     "data": {
      "text/plain": [
       "<function matplotlib.pyplot.show(close=None, block=None)>"
      ]
     },
     "execution_count": 93,
     "metadata": {},
     "output_type": "execute_result"
    },
    {
     "data": {
      "image/png": "[encoded data removed]",
      "text/plain": [
       "<Figure size 640x480 with 2 Axes>"
      ]
     },
     "metadata": {},
     "output_type": "display_data"
    }
   ],
   "source": [
    "sns.heatmap(gpp_df.corr())\n",
    "plt.show"
   ]
  },
  {
   "cell_type": "code",
   "execution_count": 94,
   "id": "afb37be3",
   "metadata": {},
   "outputs": [
    {
     "data": {
      "text/plain": [
       "array([nan, 'Australia Clean Energy Regulator', 'JRC-PPDB-OPEN', 'ENTSOE',\n",
       "       'Agencia de Regulacion y Control de Electricidad',\n",
       "       'Egyptian Electricity Holding Company', 'IAEA',\n",
       "       'Volta River Authority',\n",
       "       'Guatemala Energy Data Visualization Center at Universidad Rafael Landivar',\n",
       "       'Central Electricity Authority', 'Arab Union of Electricity',\n",
       "       \"Office National de l'Electricite\", 'Open Development Myanmar',\n",
       "       'Wind Stats Netherlands', 'Peru Ministry of Energy and Mines',\n",
       "       'U.S. Energy Information Administration',\n",
       "       'Venezuela Electricity Sector', 'Open Development Vietnam'],\n",
       "      dtype=object)"
      ]
     },
     "execution_count": 94,
     "metadata": {},
     "output_type": "execute_result"
    }
   ],
   "source": [
    "gpp_df.generation_data_source.unique()"
   ]
  },
  {
   "cell_type": "code",
   "execution_count": 95,
   "id": "290320c0",
   "metadata": {},
   "outputs": [],
   "source": [
    "gpp_df.drop(['generation_data_source'], axis=1,inplace = True)\n"
   ]
  },
  {
   "cell_type": "code",
   "execution_count": 96,
   "id": "7f6f33e4",
   "metadata": {},
   "outputs": [
    {
     "data": {
      "text/plain": [
       "array(['GEODB', 'Wiki-Solar', 'KTH', 'Power Africa', 'WRI',\n",
       "       'Ministerio de Energía y Minería',\n",
       "       'Australian Renewable Energy Mapping Infrastructure', 'CARMA',\n",
       "       'Open Power System Data',\n",
       "       'Agência Nacional de Energia Elétrica (Brazil)', 'GCPT',\n",
       "       'Natural Resources Canada', 'Energía Abierta',\n",
       "       'UNFCCC CDM Registry', nan, 'Industry About',\n",
       "       'Estonian Wind Energy Association',\n",
       "       'Guatemala Energy Data Visualization Center at Universidad Rafael Landivar',\n",
       "       'National Renewable Energy Laboratory',\n",
       "       'North American Cooperation on Energy Information and Comisión Reguladora de Energía',\n",
       "       'CDM', 'University of Dąbrowa Górnicza',\n",
       "       'Energias Endogenas de Portugal', 'EnergyBase (RUS)',\n",
       "       'UK Renewable Energy Planning Database', 'GEO',\n",
       "       'U.S. Energy Information Administration',\n",
       "       'La Administración Nacional de Usinas y Trasmisiones Eléctricas (Uruguay)',\n",
       "       'Open Development Vietnam'], dtype=object)"
      ]
     },
     "execution_count": 96,
     "metadata": {},
     "output_type": "execute_result"
    }
   ],
   "source": [
    "gpp_df.geolocation_source.unique()"
   ]
  },
  {
   "cell_type": "code",
   "execution_count": 97,
   "id": "4bb653b5",
   "metadata": {},
   "outputs": [
    {
     "data": {
      "text/plain": [
       "country_long                          0\n",
       "name                                  0\n",
       "capacity_mw                           0\n",
       "latitude                              0\n",
       "longitude                             0\n",
       "primary_fuel                          0\n",
       "other_fuel1                           0\n",
       "other_fuel2                           0\n",
       "other_fuel3                       34843\n",
       "geolocation_source                  419\n",
       "generation_gwh_2013               28519\n",
       "generation_gwh_2014               27710\n",
       "generation_gwh_2015               26733\n",
       "generation_gwh_2016               25792\n",
       "generation_gwh_2017               25436\n",
       "generation_gwh_2018               25299\n",
       "generation_gwh_2019               25277\n",
       "estimated_generation_gwh_2013     18816\n",
       "estimated_generation_gwh_2014     18433\n",
       "estimated_generation_gwh_2015     17886\n",
       "estimated_generation_gwh_2016     17366\n",
       "estimated_generation_gwh_2017      1798\n",
       "estimated_generation_note_2013        0\n",
       "estimated_generation_note_2014        0\n",
       "estimated_generation_note_2015        0\n",
       "estimated_generation_note_2016        0\n",
       "estimated_generation_note_2017        0\n",
       "dtype: int64"
      ]
     },
     "execution_count": 97,
     "metadata": {},
     "output_type": "execute_result"
    }
   ],
   "source": [
    "gpp_df.isnull().sum()"
   ]
  },
  {
   "cell_type": "code",
   "execution_count": 98,
   "id": "12828964",
   "metadata": {},
   "outputs": [],
   "source": [
    "gpp_df.drop(['geolocation_source'], axis=1,inplace = True)\n"
   ]
  },
  {
   "cell_type": "code",
   "execution_count": 99,
   "id": "3c0dc73c",
   "metadata": {},
   "outputs": [
    {
     "name": "stdout",
     "output_type": "stream",
     "text": [
      "<class 'pandas.core.frame.DataFrame'>\n",
      "RangeIndex: 34936 entries, 0 to 34935\n",
      "Data columns (total 26 columns):\n",
      " #   Column                          Non-Null Count  Dtype  \n",
      "---  ------                          --------------  -----  \n",
      " 0   country_long                    34936 non-null  object \n",
      " 1   name                            34936 non-null  object \n",
      " 2   capacity_mw                     34936 non-null  float64\n",
      " 3   latitude                        34936 non-null  float64\n",
      " 4   longitude                       34936 non-null  float64\n",
      " 5   primary_fuel                    34936 non-null  object \n",
      " 6   other_fuel1                     34936 non-null  float64\n",
      " 7   other_fuel2                     34936 non-null  float64\n",
      " 8   other_fuel3                     93 non-null     float64\n",
      " 9   generation_gwh_2013             6417 non-null   float64\n",
      " 10  generation_gwh_2014             7226 non-null   float64\n",
      " 11  generation_gwh_2015             8203 non-null   float64\n",
      " 12  generation_gwh_2016             9144 non-null   float64\n",
      " 13  generation_gwh_2017             9500 non-null   float64\n",
      " 14  generation_gwh_2018             9637 non-null   float64\n",
      " 15  generation_gwh_2019             9659 non-null   float64\n",
      " 16  estimated_generation_gwh_2013   16120 non-null  float64\n",
      " 17  estimated_generation_gwh_2014   16503 non-null  float64\n",
      " 18  estimated_generation_gwh_2015   17050 non-null  float64\n",
      " 19  estimated_generation_gwh_2016   17570 non-null  float64\n",
      " 20  estimated_generation_gwh_2017   33138 non-null  float64\n",
      " 21  estimated_generation_note_2013  34936 non-null  object \n",
      " 22  estimated_generation_note_2014  34936 non-null  object \n",
      " 23  estimated_generation_note_2015  34936 non-null  object \n",
      " 24  estimated_generation_note_2016  34936 non-null  object \n",
      " 25  estimated_generation_note_2017  34936 non-null  object \n",
      "dtypes: float64(18), object(8)\n",
      "memory usage: 6.9+ MB\n"
     ]
    }
   ],
   "source": [
    "gpp_df.info()"
   ]
  },
  {
   "cell_type": "code",
   "execution_count": 100,
   "id": "cef05380",
   "metadata": {},
   "outputs": [
    {
     "data": {
      "text/plain": [
       "country_long                          0\n",
       "name                                  0\n",
       "capacity_mw                           0\n",
       "latitude                              0\n",
       "longitude                             0\n",
       "primary_fuel                          0\n",
       "other_fuel1                           0\n",
       "other_fuel2                           0\n",
       "other_fuel3                       34843\n",
       "generation_gwh_2013               28519\n",
       "generation_gwh_2014               27710\n",
       "generation_gwh_2015               26733\n",
       "generation_gwh_2016               25792\n",
       "generation_gwh_2017               25436\n",
       "generation_gwh_2018               25299\n",
       "generation_gwh_2019               25277\n",
       "estimated_generation_gwh_2013     18816\n",
       "estimated_generation_gwh_2014     18433\n",
       "estimated_generation_gwh_2015     17886\n",
       "estimated_generation_gwh_2016     17366\n",
       "estimated_generation_gwh_2017      1798\n",
       "estimated_generation_note_2013        0\n",
       "estimated_generation_note_2014        0\n",
       "estimated_generation_note_2015        0\n",
       "estimated_generation_note_2016        0\n",
       "estimated_generation_note_2017        0\n",
       "dtype: int64"
      ]
     },
     "execution_count": 100,
     "metadata": {},
     "output_type": "execute_result"
    }
   ],
   "source": [
    "gpp_df.isnull().sum()"
   ]
  },
  {
   "cell_type": "code",
   "execution_count": 101,
   "id": "b4f31195",
   "metadata": {},
   "outputs": [],
   "source": [
    "gpp_df.fillna(gpp_df.mean(), inplace=True)"
   ]
  },
  {
   "cell_type": "code",
   "execution_count": 102,
   "id": "c44240d4",
   "metadata": {},
   "outputs": [
    {
     "data": {
      "text/plain": [
       "country_long                      0\n",
       "name                              0\n",
       "capacity_mw                       0\n",
       "latitude                          0\n",
       "longitude                         0\n",
       "primary_fuel                      0\n",
       "other_fuel1                       0\n",
       "other_fuel2                       0\n",
       "other_fuel3                       0\n",
       "generation_gwh_2013               0\n",
       "generation_gwh_2014               0\n",
       "generation_gwh_2015               0\n",
       "generation_gwh_2016               0\n",
       "generation_gwh_2017               0\n",
       "generation_gwh_2018               0\n",
       "generation_gwh_2019               0\n",
       "estimated_generation_gwh_2013     0\n",
       "estimated_generation_gwh_2014     0\n",
       "estimated_generation_gwh_2015     0\n",
       "estimated_generation_gwh_2016     0\n",
       "estimated_generation_gwh_2017     0\n",
       "estimated_generation_note_2013    0\n",
       "estimated_generation_note_2014    0\n",
       "estimated_generation_note_2015    0\n",
       "estimated_generation_note_2016    0\n",
       "estimated_generation_note_2017    0\n",
       "dtype: int64"
      ]
     },
     "execution_count": 102,
     "metadata": {},
     "output_type": "execute_result"
    }
   ],
   "source": [
    "gpp_df.isnull().sum()"
   ]
  },
  {
   "cell_type": "code",
   "execution_count": 103,
   "id": "c701a778",
   "metadata": {
    "scrolled": true
   },
   "outputs": [
    {
     "data": {
      "image/png": "[encoded data removed]",
      "text/plain": [
       "<Figure size 1700x100 with 1 Axes>"
      ]
     },
     "metadata": {},
     "output_type": "display_data"
    },
    {
     "data": {
      "image/png": "[encoded data removed]",
      "text/plain": [
       "<Figure size 1700x100 with 1 Axes>"
      ]
     },
     "metadata": {},
     "output_type": "display_data"
    },
    {
     "data": {
      "image/png": "[encoded data removed]",
      "text/plain": [
       "<Figure size 1700x100 with 1 Axes>"
      ]
     },
     "metadata": {},
     "output_type": "display_data"
    },
    {
     "data": {
      "image/png": "[encoded data removed]",
      "text/plain": [
       "<Figure size 1700x100 with 1 Axes>"
      ]
     },
     "metadata": {},
     "output_type": "display_data"
    },
    {
     "data": {
      "image/png": "[encoded data removed]",
      "text/plain": [
       "<Figure size 1700x100 with 1 Axes>"
      ]
     },
     "metadata": {},
     "output_type": "display_data"
    },
    {
     "data": {
      "image/png": "[encoded data removed]",
      "text/plain": [
       "<Figure size 1700x100 with 1 Axes>"
      ]
     },
     "metadata": {},
     "output_type": "display_data"
    },
    {
     "data": {
      "image/png": "[encoded data removed]",
      "text/plain": [
       "<Figure size 1700x100 with 1 Axes>"
      ]
     },
     "metadata": {},
     "output_type": "display_data"
    },
    {
     "data": {
      "image/png": "[encoded data removed]",
      "text/plain": [
       "<Figure size 1700x100 with 1 Axes>"
      ]
     },
     "metadata": {},
     "output_type": "display_data"
    },
    {
     "data": {
      "image/png": "[encoded data removed]",
      "text/plain": [
       "<Figure size 1700x100 with 1 Axes>"
      ]
     },
     "metadata": {},
     "output_type": "display_data"
    },
    {
     "data": {
      "image/png": "[encoded data removed]",
      "text/plain": [
       "<Figure size 1700x100 with 1 Axes>"
      ]
     },
     "metadata": {},
     "output_type": "display_data"
    },
    {
     "data": {
      "image/png": "[encoded data removed]",
      "text/plain": [
       "<Figure size 1700x100 with 1 Axes>"
      ]
     },
     "metadata": {},
     "output_type": "display_data"
    },
    {
     "data": {
      "image/png": "[encoded data removed]",
      "text/plain": [
       "<Figure size 1700x100 with 1 Axes>"
      ]
     },
     "metadata": {},
     "output_type": "display_data"
    },
    {
     "data": {
      "image/png": "[encoded data removed]",
      "text/plain": [
       "<Figure size 1700x100 with 1 Axes>"
      ]
     },
     "metadata": {},
     "output_type": "display_data"
    },
    {
     "data": {
      "image/png": "[encoded data removed]",
      "text/plain": [
       "<Figure size 1700x100 with 1 Axes>"
      ]
     },
     "metadata": {},
     "output_type": "display_data"
    },
    {
     "data": {
      "image/png": "[encoded data removed]",
      "text/plain": [
       "<Figure size 1700x100 with 1 Axes>"
      ]
     },
     "metadata": {},
     "output_type": "display_data"
    },
    {
     "data": {
      "image/png": "[encoded data removed]",
      "text/plain": [
       "<Figure size 1700x100 with 1 Axes>"
      ]
     },
     "metadata": {},
     "output_type": "display_data"
    },
    {
     "data": {
      "image/png": "[encoded data removed]",
      "text/plain": [
       "<Figure size 1700x100 with 1 Axes>"
      ]
     },
     "metadata": {},
     "output_type": "display_data"
    },
    {
     "data": {
      "image/png": "[encoded data removed]",
      "text/plain": [
       "<Figure size 1700x100 with 1 Axes>"
      ]
     },
     "metadata": {},
     "output_type": "display_data"
    }
   ],
   "source": [
    "gpp_df_1= gpp_df.select_dtypes(exclude=['object'])\n",
    "for column in gpp_df_1:\n",
    "        plt.figure(figsize=(17,1))\n",
    "        sns.boxplot(data=gpp_df, x=column)"
   ]
  },
  {
   "cell_type": "code",
   "execution_count": 104,
   "id": "758a8dab",
   "metadata": {},
   "outputs": [
    {
     "name": "stdout",
     "output_type": "stream",
     "text": [
      "-100.76637499999998\n",
      "181.010625\n"
     ]
    }
   ],
   "source": [
    "Q1=gpp_df['capacity_mw'].quantile(0.25)\n",
    "Q2=gpp_df['capacity_mw'].quantile(0.5)\n",
    "Q3=gpp_df['capacity_mw'].quantile(0.75)\n",
    "iqr=Q3-Q1\n",
    "lowlim=Q1-1.5*iqr\n",
    "upplim=Q3+1.5*iqr\n",
    "print(lowlim)\n",
    "print(upplim)"
   ]
  },
  {
   "cell_type": "code",
   "execution_count": 105,
   "id": "66f0ee9b",
   "metadata": {},
   "outputs": [],
   "source": [
    "gpp_df['capacity_mw'] = np.where(gpp_df['capacity_mw']> upplim,upplim,\n",
    "                        np.where(gpp_df['capacity_mw']<lowlim,lowlim, gpp_df['capacity_mw']))\n"
   ]
  },
  {
   "cell_type": "code",
   "execution_count": 106,
   "id": "3a1741f9",
   "metadata": {},
   "outputs": [
    {
     "name": "stdout",
     "output_type": "stream",
     "text": [
      "3.746499999999994\n",
      "71.7731\n"
     ]
    }
   ],
   "source": [
    "Q1=gpp_df['latitude'].quantile(0.25)\n",
    "Q2=gpp_df['latitude'].quantile(0.5)\n",
    "Q3=gpp_df['latitude'].quantile(0.75)\n",
    "iqr=Q3-Q1\n",
    "lowlim=Q1-1.5*iqr\n",
    "upplim=Q3+1.5*iqr\n",
    "print(lowlim)\n",
    "print(upplim)"
   ]
  },
  {
   "cell_type": "code",
   "execution_count": 107,
   "id": "019a4234",
   "metadata": {},
   "outputs": [],
   "source": [
    "gpp_df['latitude'] = np.where(gpp_df['latitude']> upplim,upplim,\n",
    "                        np.where(gpp_df['latitude']<lowlim,lowlim, gpp_df['latitude']))\n"
   ]
  },
  {
   "cell_type": "code",
   "execution_count": null,
   "id": "238d7507",
   "metadata": {},
   "outputs": [],
   "source": []
  },
  {
   "cell_type": "code",
   "execution_count": null,
   "id": "3ed794f4",
   "metadata": {},
   "outputs": [],
   "source": []
  },
  {
   "cell_type": "code",
   "execution_count": null,
   "id": "719939b7",
   "metadata": {},
   "outputs": [],
   "source": []
  },
  {
   "cell_type": "code",
   "execution_count": null,
   "id": "5a007074",
   "metadata": {},
   "outputs": [],
   "source": []
  },
  {
   "cell_type": "code",
   "execution_count": 108,
   "id": "3f84562c",
   "metadata": {},
   "outputs": [
    {
     "name": "stdout",
     "output_type": "stream",
     "text": [
      "-275.74333126550886\n",
      "548.0255521091815\n"
     ]
    }
   ],
   "source": [
    "Q1=gpp_df['estimated_generation_gwh_2013'].quantile(0.25)\n",
    "Q2=gpp_df['estimated_generation_gwh_2013'].quantile(0.5)\n",
    "Q3=gpp_df['estimated_generation_gwh_2013'].quantile(0.75)\n",
    "iqr=Q3-Q1\n",
    "lowlim=Q1-1.5*iqr\n",
    "upplim=Q3+1.5*iqr\n",
    "print(lowlim)\n",
    "print(upplim)"
   ]
  },
  {
   "cell_type": "code",
   "execution_count": 109,
   "id": "80dca6d1",
   "metadata": {},
   "outputs": [],
   "source": [
    "gpp_df['estimated_generation_gwh_2013'] = np.where(gpp_df['estimated_generation_gwh_2013']> upplim,upplim,\n",
    "                        np.where(gpp_df['estimated_generation_gwh_2013']<lowlim,lowlim, gpp_df['estimated_generation_gwh_2013']))\n"
   ]
  },
  {
   "cell_type": "code",
   "execution_count": 110,
   "id": "ef6dc981",
   "metadata": {},
   "outputs": [
    {
     "name": "stdout",
     "output_type": "stream",
     "text": [
      "-282.5154324213793\n",
      "557.3990540356322\n"
     ]
    }
   ],
   "source": [
    "Q1=gpp_df['estimated_generation_gwh_2014'].quantile(0.25)\n",
    "Q2=gpp_df['estimated_generation_gwh_2014'].quantile(0.5)\n",
    "Q3=gpp_df['estimated_generation_gwh_2014'].quantile(0.75)\n",
    "iqr=Q3-Q1\n",
    "lowlim=Q1-1.5*iqr\n",
    "upplim=Q3+1.5*iqr\n",
    "print(lowlim)\n",
    "print(upplim)"
   ]
  },
  {
   "cell_type": "code",
   "execution_count": 111,
   "id": "339a9acd",
   "metadata": {},
   "outputs": [],
   "source": [
    "gpp_df['estimated_generation_gwh_2014'] = np.where(gpp_df['estimated_generation_gwh_2014']> upplim,upplim,\n",
    "                        np.where(gpp_df['estimated_generation_gwh_2014']<lowlim,lowlim, gpp_df['estimated_generation_gwh_2014']))\n"
   ]
  },
  {
   "cell_type": "code",
   "execution_count": 112,
   "id": "64bd9906",
   "metadata": {},
   "outputs": [
    {
     "name": "stdout",
     "output_type": "stream",
     "text": [
      "-281.07410029325763\n",
      "546.0301671554294\n"
     ]
    }
   ],
   "source": [
    "Q1=gpp_df['estimated_generation_gwh_2015'].quantile(0.25)\n",
    "Q2=gpp_df['estimated_generation_gwh_2015'].quantile(0.5)\n",
    "Q3=gpp_df['estimated_generation_gwh_2015'].quantile(0.75)\n",
    "iqr=Q3-Q1\n",
    "lowlim=Q1-1.5*iqr\n",
    "upplim=Q3+1.5*iqr\n",
    "print(lowlim)\n",
    "print(upplim)"
   ]
  },
  {
   "cell_type": "code",
   "execution_count": 113,
   "id": "e4ea711f",
   "metadata": {},
   "outputs": [],
   "source": [
    "gpp_df['estimated_generation_gwh_2015'] = np.where(gpp_df['estimated_generation_gwh_2015']> upplim,upplim,\n",
    "                        np.where(gpp_df['estimated_generation_gwh_2015']<lowlim,lowlim, gpp_df['estimated_generation_gwh_2015']))\n"
   ]
  },
  {
   "cell_type": "code",
   "execution_count": 114,
   "id": "ef247910",
   "metadata": {},
   "outputs": [
    {
     "name": "stdout",
     "output_type": "stream",
     "text": [
      "-285.8741478372227\n",
      "548.6369130620378\n"
     ]
    }
   ],
   "source": [
    "Q1=gpp_df['estimated_generation_gwh_2016'].quantile(0.25)\n",
    "Q2=gpp_df['estimated_generation_gwh_2016'].quantile(0.5)\n",
    "Q3=gpp_df['estimated_generation_gwh_2016'].quantile(0.75)\n",
    "iqr=Q3-Q1\n",
    "lowlim=Q1-1.5*iqr\n",
    "upplim=Q3+1.5*iqr\n",
    "print(lowlim)\n",
    "print(upplim)"
   ]
  },
  {
   "cell_type": "code",
   "execution_count": 115,
   "id": "7c4c660e",
   "metadata": {},
   "outputs": [],
   "source": [
    "gpp_df['estimated_generation_gwh_2016'] = np.where(gpp_df['estimated_generation_gwh_2016']> upplim,upplim,\n",
    "                        np.where(gpp_df['estimated_generation_gwh_2016']<lowlim,lowlim, gpp_df['estimated_generation_gwh_2016']))\n"
   ]
  },
  {
   "cell_type": "code",
   "execution_count": 116,
   "id": "13aaed41",
   "metadata": {},
   "outputs": [
    {
     "name": "stdout",
     "output_type": "stream",
     "text": [
      "-509.1587500000001\n",
      "872.49125\n"
     ]
    }
   ],
   "source": [
    "Q1=gpp_df['estimated_generation_gwh_2017'].quantile(0.25)\n",
    "Q2=gpp_df['estimated_generation_gwh_2017'].quantile(0.5)\n",
    "Q3=gpp_df['estimated_generation_gwh_2017'].quantile(0.75)\n",
    "iqr=Q3-Q1\n",
    "lowlim=Q1-1.5*iqr\n",
    "upplim=Q3+1.5*iqr\n",
    "print(lowlim)\n",
    "print(upplim)"
   ]
  },
  {
   "cell_type": "code",
   "execution_count": 117,
   "id": "b8809dae",
   "metadata": {},
   "outputs": [],
   "source": [
    "gpp_df['estimated_generation_gwh_2017'] = np.where(gpp_df['estimated_generation_gwh_2017']> upplim,upplim,\n",
    "                        np.where(gpp_df['estimated_generation_gwh_2017']<lowlim,lowlim, gpp_df['estimated_generation_gwh_2017']))\n"
   ]
  },
  {
   "cell_type": "code",
   "execution_count": 118,
   "id": "a6ec7d65",
   "metadata": {},
   "outputs": [
    {
     "data": {
      "text/plain": [
       "array(['Hydro', 'Solar', 'Gas', 'Other', 'Oil', 'Wind', 'Nuclear', 'Coal',\n",
       "       'Waste', 'Biomass', 'Wave and Tidal', 'Petcoke', 'Geothermal',\n",
       "       'Storage', 'Cogeneration'], dtype=object)"
      ]
     },
     "execution_count": 118,
     "metadata": {},
     "output_type": "execute_result"
    }
   ],
   "source": [
    "gpp_df.primary_fuel.unique()"
   ]
  },
  {
   "cell_type": "code",
   "execution_count": 119,
   "id": "0c2cf2ad",
   "metadata": {},
   "outputs": [],
   "source": [
    "gpp_df['primary_fuel'] = gpp_df['primary_fuel'].map({'Hydro':0,'Solar':1,'Gas':3,'Oil':4,'Wind':5,'Nuclear':6,'Coal':7,'Waste':8,'Biomass':9,'Wave and Tidal':10,'Petcoke':11,'Geothermal':12,'Storage':13,'Cogeneration':14,'Other':15})\n"
   ]
  },
  {
   "cell_type": "code",
   "execution_count": 120,
   "id": "4aff4fc1",
   "metadata": {},
   "outputs": [],
   "source": [
    "gpp_df.drop(['estimated_generation_note_2013','estimated_generation_note_2014','estimated_generation_note_2015','estimated_generation_note_2016','estimated_generation_note_2017'], axis=1,inplace = True)\n"
   ]
  },
  {
   "cell_type": "markdown",
   "id": "88633083",
   "metadata": {},
   "source": [
    "# Predicting capacity_mw"
   ]
  },
  {
   "cell_type": "code",
   "execution_count": 121,
   "id": "bdb5e928",
   "metadata": {},
   "outputs": [],
   "source": [
    "features = gpp_df.drop(columns = ['capacity_mw','country_long','name'],axis=1)\n",
    "label= gpp_df['capacity_mw']\n",
    "X = features\n",
    "Y=label"
   ]
  },
  {
   "cell_type": "code",
   "execution_count": 122,
   "id": "183e6f25",
   "metadata": {},
   "outputs": [],
   "source": [
    "X_train, X_test, Y_train, Y_test = train_test_split(X, Y, test_size= 0.2, random_state = 0)"
   ]
  },
  {
   "cell_type": "code",
   "execution_count": 123,
   "id": "5acabe50",
   "metadata": {},
   "outputs": [
    {
     "data": {
      "text/plain": [
       "country_long                     0\n",
       "name                             0\n",
       "capacity_mw                      0\n",
       "latitude                         0\n",
       "longitude                        0\n",
       "primary_fuel                     0\n",
       "other_fuel1                      0\n",
       "other_fuel2                      0\n",
       "other_fuel3                      0\n",
       "generation_gwh_2013              0\n",
       "generation_gwh_2014              0\n",
       "generation_gwh_2015              0\n",
       "generation_gwh_2016              0\n",
       "generation_gwh_2017              0\n",
       "generation_gwh_2018              0\n",
       "generation_gwh_2019              0\n",
       "estimated_generation_gwh_2013    0\n",
       "estimated_generation_gwh_2014    0\n",
       "estimated_generation_gwh_2015    0\n",
       "estimated_generation_gwh_2016    0\n",
       "estimated_generation_gwh_2017    0\n",
       "dtype: int64"
      ]
     },
     "execution_count": 123,
     "metadata": {},
     "output_type": "execute_result"
    }
   ],
   "source": [
    "gpp_df.isnull().sum()"
   ]
  },
  {
   "cell_type": "code",
   "execution_count": 124,
   "id": "9a0faeaf",
   "metadata": {},
   "outputs": [
    {
     "name": "stdout",
     "output_type": "stream",
     "text": [
      "<class 'pandas.core.frame.DataFrame'>\n",
      "RangeIndex: 34936 entries, 0 to 34935\n",
      "Data columns (total 21 columns):\n",
      " #   Column                         Non-Null Count  Dtype  \n",
      "---  ------                         --------------  -----  \n",
      " 0   country_long                   34936 non-null  object \n",
      " 1   name                           34936 non-null  object \n",
      " 2   capacity_mw                    34936 non-null  float64\n",
      " 3   latitude                       34936 non-null  float64\n",
      " 4   longitude                      34936 non-null  float64\n",
      " 5   primary_fuel                   34936 non-null  int64  \n",
      " 6   other_fuel1                    34936 non-null  float64\n",
      " 7   other_fuel2                    34936 non-null  float64\n",
      " 8   other_fuel3                    34936 non-null  float64\n",
      " 9   generation_gwh_2013            34936 non-null  float64\n",
      " 10  generation_gwh_2014            34936 non-null  float64\n",
      " 11  generation_gwh_2015            34936 non-null  float64\n",
      " 12  generation_gwh_2016            34936 non-null  float64\n",
      " 13  generation_gwh_2017            34936 non-null  float64\n",
      " 14  generation_gwh_2018            34936 non-null  float64\n",
      " 15  generation_gwh_2019            34936 non-null  float64\n",
      " 16  estimated_generation_gwh_2013  34936 non-null  float64\n",
      " 17  estimated_generation_gwh_2014  34936 non-null  float64\n",
      " 18  estimated_generation_gwh_2015  34936 non-null  float64\n",
      " 19  estimated_generation_gwh_2016  34936 non-null  float64\n",
      " 20  estimated_generation_gwh_2017  34936 non-null  float64\n",
      "dtypes: float64(18), int64(1), object(2)\n",
      "memory usage: 5.6+ MB\n"
     ]
    }
   ],
   "source": [
    "gpp_df.info()"
   ]
  },
  {
   "cell_type": "code",
   "execution_count": 125,
   "id": "e3a38f96",
   "metadata": {},
   "outputs": [
    {
     "name": "stdout",
     "output_type": "stream",
     "text": [
      "latitude                         False\n",
      "longitude                        False\n",
      "primary_fuel                     False\n",
      "other_fuel1                      False\n",
      "other_fuel2                      False\n",
      "other_fuel3                      False\n",
      "generation_gwh_2013              False\n",
      "generation_gwh_2014              False\n",
      "generation_gwh_2015              False\n",
      "generation_gwh_2016              False\n",
      "generation_gwh_2017              False\n",
      "generation_gwh_2018              False\n",
      "generation_gwh_2019              False\n",
      "estimated_generation_gwh_2013    False\n",
      "estimated_generation_gwh_2014    False\n",
      "estimated_generation_gwh_2015    False\n",
      "estimated_generation_gwh_2016    False\n",
      "estimated_generation_gwh_2017    False\n",
      "dtype: bool\n",
      "latitude                         False\n",
      "longitude                        False\n",
      "primary_fuel                     False\n",
      "other_fuel1                      False\n",
      "other_fuel2                      False\n",
      "other_fuel3                      False\n",
      "generation_gwh_2013              False\n",
      "generation_gwh_2014              False\n",
      "generation_gwh_2015              False\n",
      "generation_gwh_2016              False\n",
      "generation_gwh_2017              False\n",
      "generation_gwh_2018              False\n",
      "generation_gwh_2019              False\n",
      "estimated_generation_gwh_2013    False\n",
      "estimated_generation_gwh_2014    False\n",
      "estimated_generation_gwh_2015    False\n",
      "estimated_generation_gwh_2016    False\n",
      "estimated_generation_gwh_2017    False\n",
      "dtype: bool\n",
      "False\n",
      "False\n"
     ]
    }
   ],
   "source": [
    "print(np.isnan(X_train).any())\n",
    "print(np.isinf(X_train).any())\n",
    "print(np.isnan(Y_train).any())\n",
    "print(np.isinf(Y_train).any())"
   ]
  },
  {
   "cell_type": "code",
   "execution_count": 126,
   "id": "4bcf2e21",
   "metadata": {},
   "outputs": [],
   "source": [
    "gpp_df['generation_gwh_2013'].fillna(gpp_df['generation_gwh_2013'].mean(), inplace=True)\n"
   ]
  },
  {
   "cell_type": "code",
   "execution_count": 127,
   "id": "9af304b3",
   "metadata": {},
   "outputs": [
    {
     "name": "stdout",
     "output_type": "stream",
     "text": [
      "latitude                         False\n",
      "longitude                        False\n",
      "primary_fuel                     False\n",
      "other_fuel1                      False\n",
      "other_fuel2                      False\n",
      "other_fuel3                      False\n",
      "generation_gwh_2013              False\n",
      "generation_gwh_2014              False\n",
      "generation_gwh_2015              False\n",
      "generation_gwh_2016              False\n",
      "generation_gwh_2017              False\n",
      "generation_gwh_2018              False\n",
      "generation_gwh_2019              False\n",
      "estimated_generation_gwh_2013    False\n",
      "estimated_generation_gwh_2014    False\n",
      "estimated_generation_gwh_2015    False\n",
      "estimated_generation_gwh_2016    False\n",
      "estimated_generation_gwh_2017    False\n",
      "dtype: bool\n",
      "latitude                         False\n",
      "longitude                        False\n",
      "primary_fuel                     False\n",
      "other_fuel1                      False\n",
      "other_fuel2                      False\n",
      "other_fuel3                      False\n",
      "generation_gwh_2013              False\n",
      "generation_gwh_2014              False\n",
      "generation_gwh_2015              False\n",
      "generation_gwh_2016              False\n",
      "generation_gwh_2017              False\n",
      "generation_gwh_2018              False\n",
      "generation_gwh_2019              False\n",
      "estimated_generation_gwh_2013    False\n",
      "estimated_generation_gwh_2014    False\n",
      "estimated_generation_gwh_2015    False\n",
      "estimated_generation_gwh_2016    False\n",
      "estimated_generation_gwh_2017    False\n",
      "dtype: bool\n",
      "False\n",
      "False\n"
     ]
    }
   ],
   "source": [
    "print(np.isnan(X_train).any())\n",
    "print(np.isinf(X_train).any())\n",
    "print(np.isnan(Y_train).any())\n",
    "print(np.isinf(Y_train).any())"
   ]
  },
  {
   "cell_type": "code",
   "execution_count": 128,
   "id": "ce44a073",
   "metadata": {},
   "outputs": [
    {
     "data": {
      "text/plain": [
       "country_long                     0\n",
       "name                             0\n",
       "capacity_mw                      0\n",
       "latitude                         0\n",
       "longitude                        0\n",
       "primary_fuel                     0\n",
       "other_fuel1                      0\n",
       "other_fuel2                      0\n",
       "other_fuel3                      0\n",
       "generation_gwh_2013              0\n",
       "generation_gwh_2014              0\n",
       "generation_gwh_2015              0\n",
       "generation_gwh_2016              0\n",
       "generation_gwh_2017              0\n",
       "generation_gwh_2018              0\n",
       "generation_gwh_2019              0\n",
       "estimated_generation_gwh_2013    0\n",
       "estimated_generation_gwh_2014    0\n",
       "estimated_generation_gwh_2015    0\n",
       "estimated_generation_gwh_2016    0\n",
       "estimated_generation_gwh_2017    0\n",
       "dtype: int64"
      ]
     },
     "execution_count": 128,
     "metadata": {},
     "output_type": "execute_result"
    }
   ],
   "source": [
    "gpp_df.isnull().sum()\n"
   ]
  },
  {
   "cell_type": "code",
   "execution_count": 129,
   "id": "86cd0a25",
   "metadata": {},
   "outputs": [],
   "source": [
    "scaler = StandardScaler()\n",
    "scaler.fit(X_train)\n",
    "X_train = scaler.transform(X_train)\n",
    "X_test = scaler.transform(X_test)"
   ]
  },
  {
   "cell_type": "code",
   "execution_count": 130,
   "id": "f4ce488b",
   "metadata": {},
   "outputs": [
    {
     "data": {
      "text/plain": [
       "country_long                     0\n",
       "name                             0\n",
       "capacity_mw                      0\n",
       "latitude                         0\n",
       "longitude                        0\n",
       "primary_fuel                     0\n",
       "other_fuel1                      0\n",
       "other_fuel2                      0\n",
       "other_fuel3                      0\n",
       "generation_gwh_2013              0\n",
       "generation_gwh_2014              0\n",
       "generation_gwh_2015              0\n",
       "generation_gwh_2016              0\n",
       "generation_gwh_2017              0\n",
       "generation_gwh_2018              0\n",
       "generation_gwh_2019              0\n",
       "estimated_generation_gwh_2013    0\n",
       "estimated_generation_gwh_2014    0\n",
       "estimated_generation_gwh_2015    0\n",
       "estimated_generation_gwh_2016    0\n",
       "estimated_generation_gwh_2017    0\n",
       "dtype: int64"
      ]
     },
     "execution_count": 130,
     "metadata": {},
     "output_type": "execute_result"
    }
   ],
   "source": [
    "gpp_df.isnull().sum()"
   ]
  },
  {
   "cell_type": "code",
   "execution_count": 131,
   "id": "e4c6f38d",
   "metadata": {},
   "outputs": [],
   "source": [
    "lr = LinearRegression()"
   ]
  },
  {
   "cell_type": "code",
   "execution_count": 132,
   "id": "9fdf554c",
   "metadata": {},
   "outputs": [
    {
     "data": {
      "text/plain": [
       "LinearRegression()"
      ]
     },
     "execution_count": 132,
     "metadata": {},
     "output_type": "execute_result"
    }
   ],
   "source": [
    "lr.fit(X_train,Y_train)"
   ]
  },
  {
   "cell_type": "code",
   "execution_count": 133,
   "id": "6ed34172",
   "metadata": {},
   "outputs": [],
   "source": [
    "Y_pred_4= lr.predict(X_test)"
   ]
  },
  {
   "cell_type": "code",
   "execution_count": 134,
   "id": "80a65d40",
   "metadata": {},
   "outputs": [
    {
     "name": "stdout",
     "output_type": "stream",
     "text": [
      "Training Accuracy : 79.87087113251621%\n",
      "Testing Accuracy  : 80.39630619760162%\n"
     ]
    }
   ],
   "source": [
    "print(\"Training Accuracy : {}%\".format(lr.score(X_train, Y_train) * 100))\n",
    "print(\"Testing Accuracy  : {}%\".format(lr.score(X_test, Y_test) * 100))"
   ]
  },
  {
   "cell_type": "code",
   "execution_count": 135,
   "id": "88ca3abd",
   "metadata": {},
   "outputs": [
    {
     "name": "stdout",
     "output_type": "stream",
     "text": [
      "MAE 18.913009958885795\n"
     ]
    }
   ],
   "source": [
    "print('MAE', mean_absolute_error(Y_test,Y_pred_4))\n"
   ]
  },
  {
   "cell_type": "code",
   "execution_count": 174,
   "id": "0fcac32f",
   "metadata": {},
   "outputs": [
    {
     "name": "stdout",
     "output_type": "stream",
     "text": [
      "27.03908950625725\n"
     ]
    }
   ],
   "source": [
    "cv_score_lr = cross_val_score(LinearRegression(),X,Y,cv=10)\n",
    "print (cv_score_lr.mean()*100)"
   ]
  },
  {
   "cell_type": "code",
   "execution_count": 136,
   "id": "43da56cf",
   "metadata": {},
   "outputs": [],
   "source": [
    "from sklearn.neighbors import KNeighborsRegressor\n",
    "\n",
    "knn = KNeighborsRegressor()"
   ]
  },
  {
   "cell_type": "code",
   "execution_count": 137,
   "id": "be87bbb7",
   "metadata": {},
   "outputs": [
    {
     "data": {
      "text/plain": [
       "KNeighborsRegressor()"
      ]
     },
     "execution_count": 137,
     "metadata": {},
     "output_type": "execute_result"
    }
   ],
   "source": [
    "knn.fit(X_train,Y_train)\n"
   ]
  },
  {
   "cell_type": "code",
   "execution_count": 138,
   "id": "fc528de0",
   "metadata": {},
   "outputs": [],
   "source": [
    "y_pred= knn.predict(X_test)\n"
   ]
  },
  {
   "cell_type": "code",
   "execution_count": 139,
   "id": "abc0edb3",
   "metadata": {},
   "outputs": [
    {
     "name": "stdout",
     "output_type": "stream",
     "text": [
      "Training Accuracy : 97.33723822288115%\n",
      "Testing Accuracy  : 95.50385889736178%\n"
     ]
    }
   ],
   "source": [
    "print(\"Training Accuracy : {}%\".format(knn.score(X_train, Y_train) * 100))\n",
    "print(\"Testing Accuracy  : {}%\".format(knn.score(X_test, Y_test) * 100))"
   ]
  },
  {
   "cell_type": "code",
   "execution_count": 140,
   "id": "41b617bc",
   "metadata": {},
   "outputs": [
    {
     "name": "stdout",
     "output_type": "stream",
     "text": [
      "89.59286214922105\n"
     ]
    }
   ],
   "source": [
    "cv_score_knn = cross_val_score(KNeighborsRegressor(),X,Y,cv=10)\n",
    "print (cv_score_knn.mean()*100)"
   ]
  },
  {
   "cell_type": "code",
   "execution_count": 67,
   "id": "094bfb6e",
   "metadata": {},
   "outputs": [],
   "source": [
    "from sklearn.tree import DecisionTreeRegressor\n",
    "dtr=DecisionTreeRegressor()\n",
    "dtr.fit(X_train,Y_train)\n",
    "y_pred_2=dtr.predict(X_test)"
   ]
  },
  {
   "cell_type": "code",
   "execution_count": 68,
   "id": "6c954d17",
   "metadata": {},
   "outputs": [
    {
     "name": "stdout",
     "output_type": "stream",
     "text": [
      "Training Accuracy : 99.97504880795131%\n",
      "Testing Accuracy  : 94.7089730632387%\n"
     ]
    }
   ],
   "source": [
    "print(\"Training Accuracy : {}%\".format(dtr.score(X_train, Y_train) * 100))\n",
    "print(\"Testing Accuracy  : {}%\".format(dtr.score(X_test, Y_test) * 100))"
   ]
  },
  {
   "cell_type": "code",
   "execution_count": 69,
   "id": "2ce009f7",
   "metadata": {},
   "outputs": [
    {
     "name": "stdout",
     "output_type": "stream",
     "text": [
      "91.02424751787677\n"
     ]
    }
   ],
   "source": [
    "cv_score_dtr = cross_val_score(DecisionTreeRegressor(),X,Y,cv=10)\n",
    "print (cv_score_dtr.mean()*100)"
   ]
  },
  {
   "cell_type": "code",
   "execution_count": 70,
   "id": "f4c5b512",
   "metadata": {},
   "outputs": [],
   "source": [
    "rdr = RandomForestRegressor()\n",
    "rdr.fit(X_train,Y_train)\n",
    "y_pred_3=rdr.predict(X_test)"
   ]
  },
  {
   "cell_type": "code",
   "execution_count": 133,
   "id": "3633e22a",
   "metadata": {},
   "outputs": [
    {
     "name": "stdout",
     "output_type": "stream",
     "text": [
      "Training Accuracy : 99.52609327855448%\n",
      "Testing Accuracy  : 96.67292190395811%\n"
     ]
    }
   ],
   "source": [
    "print(\"Training Accuracy : {}%\".format(rdr.score(X_train, Y_train) * 100))\n",
    "print(\"Testing Accuracy  : {}%\".format(rdr.score(X_test, Y_test) * 100))"
   ]
  },
  {
   "cell_type": "code",
   "execution_count": 175,
   "id": "7aa0b76e",
   "metadata": {},
   "outputs": [
    {
     "name": "stdout",
     "output_type": "stream",
     "text": [
      "75.91416602485921\n"
     ]
    }
   ],
   "source": [
    "cv_score_rdr = cross_val_score(RandomForestRegressor(),X,Y,cv=10)\n",
    "print (cv_score_rdr.mean()*100)"
   ]
  },
  {
   "cell_type": "markdown",
   "id": "8c2330a5",
   "metadata": {},
   "source": [
    "WE CAN CHECK THE knn MODEL IS PERFORMING THE BEST AS IT IS GIVING THE HIGHEST ACCURACY OF 89%\n"
   ]
  },
  {
   "cell_type": "code",
   "execution_count": null,
   "id": "8b172507",
   "metadata": {},
   "outputs": [],
   "source": []
  },
  {
   "cell_type": "code",
   "execution_count": null,
   "id": "b6c2b87e",
   "metadata": {},
   "outputs": [],
   "source": []
  },
  {
   "cell_type": "markdown",
   "id": "851aba8e",
   "metadata": {},
   "source": []
  },
  {
   "cell_type": "code",
   "execution_count": null,
   "id": "f28f7aba",
   "metadata": {},
   "outputs": [],
   "source": []
  },
  {
   "cell_type": "code",
   "execution_count": null,
   "id": "f9596106",
   "metadata": {},
   "outputs": [],
   "source": []
  },
  {
   "cell_type": "markdown",
   "id": "0b0b3e47",
   "metadata": {},
   "source": [
    "# PREDICTING PRIMARY FUEL "
   ]
  },
  {
   "cell_type": "code",
   "execution_count": 143,
   "id": "0635a3e8",
   "metadata": {},
   "outputs": [],
   "source": [
    "features = gpp_df.drop(columns = ['primary_fuel','country_long','name'],axis=1)\n",
    "label= gpp_df['primary_fuel']\n",
    "X = features\n",
    "Y=label"
   ]
  },
  {
   "cell_type": "code",
   "execution_count": 144,
   "id": "bd765828",
   "metadata": {},
   "outputs": [],
   "source": [
    "X_train, X_val, Y_train, Y_val = train_test_split(X, Y, test_size= 0.2, random_state = 0)"
   ]
  },
  {
   "cell_type": "code",
   "execution_count": 151,
   "id": "6d46d294",
   "metadata": {},
   "outputs": [],
   "source": [
    "scaler = StandardScaler()\n",
    "scaler.fit(X_train)\n",
    "X_train = scaler.transform(X_train)\n",
    "X_test = scaler.transform(X_val)"
   ]
  },
  {
   "cell_type": "code",
   "execution_count": 152,
   "id": "0bd706c7",
   "metadata": {},
   "outputs": [],
   "source": [
    "lr = LogisticRegression()\n"
   ]
  },
  {
   "cell_type": "code",
   "execution_count": 153,
   "id": "90ae3dcf",
   "metadata": {},
   "outputs": [
    {
     "data": {
      "text/plain": [
       "LogisticRegression()"
      ]
     },
     "execution_count": 153,
     "metadata": {},
     "output_type": "execute_result"
    }
   ],
   "source": [
    "lr.fit(X_train,Y_train)"
   ]
  },
  {
   "cell_type": "code",
   "execution_count": 154,
   "id": "f21b909d",
   "metadata": {},
   "outputs": [],
   "source": [
    "y_pred_1= lr.predict(X_val)"
   ]
  },
  {
   "cell_type": "code",
   "execution_count": 155,
   "id": "f19fcf95",
   "metadata": {},
   "outputs": [
    {
     "name": "stdout",
     "output_type": "stream",
     "text": [
      "Training Accuracy : 61.82195505939602%\n",
      "Testing Accuracy  : 13.880938752146537%\n"
     ]
    }
   ],
   "source": [
    "print(\"Training Accuracy : {}%\".format(lr.score(X_train, Y_train) * 100))\n",
    "print(\"Testing Accuracy  : {}%\".format(lr.score(X_val, Y_val) * 100))"
   ]
  },
  {
   "cell_type": "code",
   "execution_count": 156,
   "id": "d29cbe87",
   "metadata": {},
   "outputs": [
    {
     "name": "stdout",
     "output_type": "stream",
     "text": [
      "55.56176462828347\n"
     ]
    }
   ],
   "source": [
    "cv_score_lr = cross_val_score(LogisticRegression(),X,Y,cv=10)\n",
    "print (cv_score_lr.mean()*100)"
   ]
  },
  {
   "cell_type": "code",
   "execution_count": 157,
   "id": "5bccfd7d",
   "metadata": {},
   "outputs": [],
   "source": [
    "from sklearn.neighbors import KNeighborsClassifier\n",
    "\n",
    "knn = KNeighborsClassifier()"
   ]
  },
  {
   "cell_type": "code",
   "execution_count": 158,
   "id": "b929fb58",
   "metadata": {},
   "outputs": [
    {
     "data": {
      "text/plain": [
       "KNeighborsClassifier()"
      ]
     },
     "execution_count": 158,
     "metadata": {},
     "output_type": "execute_result"
    }
   ],
   "source": [
    "knn.fit(X_train,Y_train)"
   ]
  },
  {
   "cell_type": "code",
   "execution_count": 159,
   "id": "a3ddca16",
   "metadata": {},
   "outputs": [],
   "source": [
    "y_pred_2= knn.predict(X_val)"
   ]
  },
  {
   "cell_type": "code",
   "execution_count": 160,
   "id": "c6eccc35",
   "metadata": {},
   "outputs": [
    {
     "name": "stdout",
     "output_type": "stream",
     "text": [
      "Training Accuracy : 90.82939745241163%\n",
      "Testing Accuracy  : 2.3898111047510016%\n"
     ]
    }
   ],
   "source": [
    "print(\"Training Accuracy : {}%\".format(knn.score(X_train, Y_train) * 100))\n",
    "print(\"Testing Accuracy  : {}%\".format(knn.score(X_val, Y_val) * 100))"
   ]
  },
  {
   "cell_type": "code",
   "execution_count": 161,
   "id": "ffc05211",
   "metadata": {},
   "outputs": [
    {
     "name": "stdout",
     "output_type": "stream",
     "text": [
      "75.04042675259753\n"
     ]
    }
   ],
   "source": [
    "cv_score_knn = cross_val_score(KNeighborsClassifier(),X,Y,cv=10)\n",
    "print (cv_score_knn.mean()*100)"
   ]
  },
  {
   "cell_type": "code",
   "execution_count": 162,
   "id": "a50c17dc",
   "metadata": {},
   "outputs": [],
   "source": [
    "dc = DecisionTreeClassifier()"
   ]
  },
  {
   "cell_type": "code",
   "execution_count": 163,
   "id": "51667022",
   "metadata": {},
   "outputs": [
    {
     "data": {
      "text/plain": [
       "DecisionTreeClassifier()"
      ]
     },
     "execution_count": 163,
     "metadata": {},
     "output_type": "execute_result"
    }
   ],
   "source": [
    "dc.fit(X_train,Y_train)"
   ]
  },
  {
   "cell_type": "code",
   "execution_count": 164,
   "id": "2c645f33",
   "metadata": {},
   "outputs": [],
   "source": [
    "y_pred_2= dc.predict(X_val)"
   ]
  },
  {
   "cell_type": "code",
   "execution_count": 165,
   "id": "c4180e33",
   "metadata": {},
   "outputs": [
    {
     "name": "stdout",
     "output_type": "stream",
     "text": [
      "Training Accuracy : 99.98568770573924%\n",
      "Testing Accuracy  : 19.562106468231253%\n"
     ]
    }
   ],
   "source": [
    "print(\"Training Accuracy : {}%\".format(dc.score(X_train, Y_train) * 100))\n",
    "print(\"Testing Accuracy  : {}%\".format(dc.score(X_val, Y_val) * 100))"
   ]
  },
  {
   "cell_type": "code",
   "execution_count": 166,
   "id": "79994d34",
   "metadata": {},
   "outputs": [
    {
     "name": "stdout",
     "output_type": "stream",
     "text": [
      "76.28301742089134\n"
     ]
    }
   ],
   "source": [
    "cv_score_dc = cross_val_score(DecisionTreeClassifier(),X,Y,cv=10)\n",
    "print (cv_score_dc.mean()*100)"
   ]
  },
  {
   "cell_type": "code",
   "execution_count": 167,
   "id": "e74b8f55",
   "metadata": {},
   "outputs": [],
   "source": [
    "rdr = RandomForestClassifier()\n",
    "rdr.fit(X_train,Y_train)\n",
    "y_pred_3=rdr.predict(X_val)"
   ]
  },
  {
   "cell_type": "code",
   "execution_count": 168,
   "id": "65ff2925",
   "metadata": {},
   "outputs": [
    {
     "name": "stdout",
     "output_type": "stream",
     "text": [
      "Training Accuracy : 99.98568770573924%\n",
      "Testing Accuracy  : 19.562106468231253%\n"
     ]
    }
   ],
   "source": [
    "print(\"Training Accuracy : {}%\".format(rdr.score(X_train, Y_train) * 100))\n",
    "print(\"Testing Accuracy  : {}%\".format(rdr.score(X_val, Y_val) * 100))"
   ]
  },
  {
   "cell_type": "code",
   "execution_count": 169,
   "id": "cc9a3936",
   "metadata": {},
   "outputs": [
    {
     "name": "stdout",
     "output_type": "stream",
     "text": [
      "81.78425212515144\n"
     ]
    }
   ],
   "source": [
    "cv_score_rdr = cross_val_score(RandomForestClassifier(),X,Y,cv=10)\n",
    "print (cv_score_rdr.mean()*100)"
   ]
  },
  {
   "cell_type": "markdown",
   "id": "fd7a761f",
   "metadata": {},
   "source": []
  },
  {
   "cell_type": "markdown",
   "id": "9421d07c",
   "metadata": {},
   "source": [
    "# FINDINGS "
   ]
  },
  {
   "cell_type": "markdown",
   "id": "3d0bcf3f",
   "metadata": {},
   "source": [
    "WE CAN CHECK THE RandomForestClassifier MODEL IS PERFORMING THE BEST AS IT IS GIVING THE HIGHEST ACCURACY OF 83%\n"
   ]
  },
  {
   "cell_type": "code",
   "execution_count": null,
   "id": "dbdbf86c",
   "metadata": {},
   "outputs": [],
   "source": []
  }
 ],
 "metadata": {
  "kernelspec": {
   "display_name": "Python 3 (ipykernel)",
   "language": "python",
   "name": "python3"
  },
  "language_info": {
   "codemirror_mode": {
    "name": "ipython",
    "version": 3
   },
   "file_extension": ".py",
   "mimetype": "text/x-python",
   "name": "python",
   "nbconvert_exporter": "python",
   "pygments_lexer": "ipython3",
   "version": "3.9.13"
  }
 },
 "nbformat": 4,
 "nbformat_minor": 5
}
